{
 "cells": [
  {
   "cell_type": "markdown",
   "metadata": {},
   "source": [
    "# Training and Testing"
   ]
  },
  {
   "cell_type": "markdown",
   "metadata": {},
   "source": [
    "## Loading Data"
   ]
  },
  {
   "cell_type": "code",
   "execution_count": 1,
   "metadata": {},
   "outputs": [],
   "source": [
    "## Import package and functions\n",
    "import torch\n",
    "import numpy as np\n",
    "import matplotlib.pyplot as plt\n",
    "import torch.nn as nn\n",
    "from torch.utils.data import DataLoader\n",
    "from CNN import *\n",
    "from data_loader import *\n",
    "from CRNN import *\n",
    "from train_test import *\n",
    "import time\n",
    "\n",
    "%load_ext autoreload\n",
    "%autoreload 2"
   ]
  },
  {
   "cell_type": "code",
   "execution_count": 4,
   "metadata": {},
   "outputs": [
    {
     "name": "stdout",
     "output_type": "stream",
     "text": [
      "The X train & valid data size is (2115, 22, 1000)\n",
      "The X test data size is (443, 22, 1000)\n",
      "Shape of X train after trimming is: (2115, 22, 500)\n",
      "Shape of X train after maxpooling: (2115, 22, 250)\n",
      "Shape of X test after maxpooling: (443, 22, 250)\n",
      "Shape of X train after averaging: (4230, 22, 250)\n",
      "Shape of X test after averaging: (886, 22, 250)\n",
      "Shape of X train after subsampling and concatenating: (8460, 22, 250)\n",
      "Shape of Y train after subsampling and concatenating: (8460,)\n",
      "Shape of X test after subsampling and concatenating: (1772, 22, 250)\n",
      "Shape of Y train after subsampling and concatenating: (1772,)\n",
      "Shape of x set after adding width info: (8460, 22, 250, 1)\n",
      "Shape of x set after adding width info: (1772, 22, 250, 1)\n"
     ]
    }
   ],
   "source": [
    "#Load and preprocess data\n",
    "path = \"project_data/\"\n",
    "X_train_valid, y_train_valid, X_test, y_test = data_loader(path,True)\n",
    "X_train_valid, y_train_valid, X_test, y_test = data_process(X_train_valid, \n",
    "        X_test, y_train_valid, y_test, verbose = True)\n",
    "x_shape,train_dataset = Dataset_torch(X_train_valid,y_train_valid,verbose=True)\n",
    "x_test_shape,test_dataset = Dataset_torch(X_test,y_test,verbose=True)"
   ]
  },
  {
   "cell_type": "code",
   "execution_count": 5,
   "metadata": {},
   "outputs": [
    {
     "name": "stdout",
     "output_type": "stream",
     "text": [
      "The X train & valid data size is (2115, 22, 1000)\n",
      "The X test data size is (443, 22, 1000)\n",
      "Shape of X train after trimming is: (2115, 22, 500)\n",
      "Shape of x set after adding width info: (2115, 22, 500, 1)\n",
      "Shape of x set after adding width info: (443, 22, 500, 1)\n"
     ]
    }
   ],
   "source": [
    "X_train_valid2, y_train_valid2, X_test2, y_test2 = data_loader(path,True)\n",
    "X_train_valid2, y_train_valid2, X_test2, y_test2 = crop_data(X_train_valid2, \n",
    "        X_test2, y_train_valid2, y_test2, data_crop = 0.5, verbose = True)\n",
    "x_shape2,train_dataset2 = Dataset_torch(X_train_valid2,y_train_valid2,verbose=True)\n",
    "x_test_shape2,test_dataset2 = Dataset_torch(X_test2,y_test2,verbose=True)"
   ]
  },
  {
   "cell_type": "markdown",
   "metadata": {},
   "source": [
    "## Hyperparameter"
   ]
  },
  {
   "cell_type": "code",
   "execution_count": 2,
   "metadata": {},
   "outputs": [],
   "source": [
    "device = \"cuda\" if torch.cuda.is_available() else \"cpu\"\n",
    "num_epoch = 100\n",
    "lr = 3e-4\n",
    "dropout = 0.5\n",
    "k_folds = 5\n",
    "bidirectional = False\n",
    "lr_decay = True\n",
    "verbose = True\n",
    "subsampler = True\n",
    "print_every = 25\n",
    "criterion = nn.CrossEntropyLoss()\n"
   ]
  },
  {
   "cell_type": "markdown",
   "metadata": {},
   "source": [
    "## 1.CNN"
   ]
  },
  {
   "cell_type": "code",
   "execution_count": 3,
   "metadata": {
    "scrolled": true
   },
   "outputs": [
    {
     "name": "stdout",
     "output_type": "stream",
     "text": [
      "Using cross validation with fold modes KFold(n_splits=5, random_state=None, shuffle=True)\n",
      "===============FOLD 0===============\n",
      "Model Initialized\n"
     ]
    },
    {
     "name": "stderr",
     "output_type": "stream",
     "text": [
      "C:\\Users\\Rong\\anaconda3\\lib\\site-packages\\torch\\nn\\modules\\conv.py:442: UserWarning: Using padding='same' with even kernel lengths and odd dilation may require a zero-padded copy of the input be created (Triggered internally at  ..\\aten\\src\\ATen\\native\\Convolution.cpp:647.)\n",
      "  return F.conv2d(input, weight, bias, self.stride,\n"
     ]
    },
    {
     "name": "stdout",
     "output_type": "stream",
     "text": [
      "Loss afer 25 epoch: 0.677, with the accuracy 73.750\n",
      "The validation accuracy at epoch 25 is: 89.06\n",
      "Loss afer 50 epoch: 0.463, with the accuracy 82.438\n",
      "The validation accuracy at epoch 50 is: 93.75\n",
      "Loss afer 75 epoch: 0.353, with the accuracy 86.984\n",
      "The validation accuracy at epoch 75 is: 97.66\n",
      "Loss afer 100 epoch: 0.308, with the accuracy 88.859\n",
      "The validation accuracy at epoch 100 is: 99.22\n",
      "Deleted mode\n",
      "===============FOLD 1===============\n",
      "Model Initialized\n",
      "Loss afer 25 epoch: 0.668, with the accuracy 74.141\n",
      "The validation accuracy at epoch 25 is: 85.16\n",
      "Loss afer 50 epoch: 0.462, with the accuracy 82.266\n",
      "The validation accuracy at epoch 50 is: 89.84\n",
      "Loss afer 75 epoch: 0.341, with the accuracy 87.172\n",
      "The validation accuracy at epoch 75 is: 99.22\n",
      "Loss afer 100 epoch: 0.287, with the accuracy 89.172\n",
      "The validation accuracy at epoch 100 is: 100.00\n",
      "Deleted mode\n",
      "===============FOLD 2===============\n",
      "Model Initialized\n",
      "Loss afer 25 epoch: 0.674, with the accuracy 73.656\n",
      "The validation accuracy at epoch 25 is: 78.12\n",
      "Loss afer 50 epoch: 0.451, with the accuracy 83.078\n",
      "The validation accuracy at epoch 50 is: 92.97\n",
      "Loss afer 75 epoch: 0.350, with the accuracy 87.234\n",
      "The validation accuracy at epoch 75 is: 96.88\n",
      "Loss afer 100 epoch: 0.303, with the accuracy 88.891\n",
      "The validation accuracy at epoch 100 is: 97.66\n",
      "Deleted mode\n",
      "===============FOLD 3===============\n",
      "Model Initialized\n",
      "Loss afer 25 epoch: 0.648, with the accuracy 74.766\n",
      "The validation accuracy at epoch 25 is: 77.34\n",
      "Loss afer 50 epoch: 0.457, with the accuracy 83.406\n",
      "The validation accuracy at epoch 50 is: 92.19\n",
      "Loss afer 75 epoch: 0.359, with the accuracy 86.562\n",
      "The validation accuracy at epoch 75 is: 98.44\n",
      "Loss afer 100 epoch: 0.290, with the accuracy 89.156\n",
      "The validation accuracy at epoch 100 is: 99.22\n",
      "Deleted mode\n",
      "===============FOLD 4===============\n",
      "Model Initialized\n",
      "Loss afer 25 epoch: 0.693, with the accuracy 72.969\n",
      "The validation accuracy at epoch 25 is: 81.25\n",
      "Loss afer 50 epoch: 0.465, with the accuracy 82.625\n",
      "The validation accuracy at epoch 50 is: 89.06\n",
      "Loss afer 75 epoch: 0.362, with the accuracy 86.266\n",
      "The validation accuracy at epoch 75 is: 97.66\n",
      "Loss afer 100 epoch: 0.291, with the accuracy 89.484\n",
      "The validation accuracy at epoch 100 is: 99.22\n",
      "All 5 Folds Completed\n",
      "Fold 0: 98.5539692066334 %\n",
      "Fold 1: 98.81147737856264 %\n",
      "Fold 2: 98.75236709029586 %\n",
      "Fold 3: 98.89187311243128 %\n",
      "Fold 4: 98.44281966597946 %\n",
      "Average is:  98.69050129078053 %\n",
      "Saving training results...\n"
     ]
    }
   ],
   "source": [
    "model_CNN = train(x_shape, \n",
    "                  train_dataset, \n",
    "                  'CNN', \n",
    "                  criterion, \n",
    "                  k_folds = k_folds,\n",
    "                  num_epochs = num_epoch, \n",
    "                  dropout = dropout,\n",
    "                  print_every = print_every,\n",
    "                  subsampler = True, \n",
    "                  lr_decay=True, \n",
    "                  verbose = True, \n",
    "                  bidirection = False)"
   ]
  },
  {
   "cell_type": "code",
   "execution_count": 4,
   "metadata": {},
   "outputs": [
    {
     "name": "stdout",
     "output_type": "stream",
     "text": [
      "The test accuracy is: 71.05 %\n"
     ]
    }
   ],
   "source": [
    "acc_last_model= test(test_dataset, model_CNN)"
   ]
  },
  {
   "cell_type": "code",
   "execution_count": 4,
   "metadata": {},
   "outputs": [
    {
     "name": "stdout",
     "output_type": "stream",
     "text": [
      "Cross validation is not implemented\n",
      "===============FOLD 0===============\n",
      "Model Initialized\n",
      "Loss afer 25 epoch: 0.664, with the accuracy 74.375\n",
      "The validation accuracy at epoch 25 is: 85.16\n",
      "Loss afer 50 epoch: 0.453, with the accuracy 82.594\n",
      "The validation accuracy at epoch 50 is: 92.97\n",
      "Loss afer 75 epoch: 0.361, with the accuracy 86.234\n",
      "The validation accuracy at epoch 75 is: 98.44\n",
      "Loss afer 100 epoch: 0.285, with the accuracy 89.297\n",
      "The validation accuracy at epoch 100 is: 97.66\n",
      "All 5 Folds Completed\n",
      "Fold 0: 98.06466590033637 %\n",
      "Average is:  98.06466590033637 %\n",
      "Saving training results...\n",
      "The test accuracy is: 73.19 %\n",
      "70 Epochs for CNN need 81.04152274131775 seconds ---\n"
     ]
    }
   ],
   "source": [
    "#Suppress cross validation\n",
    "start_time = time.time()\n",
    "num_epoch = 100\n",
    "dropout = 0.5\n",
    "cross_valid = False\n",
    "saving_file = False\n",
    "model_CNN = train(x_shape, \n",
    "                  train_dataset, \n",
    "                  'CNN', \n",
    "                  criterion, \n",
    "                  k_folds = k_folds,\n",
    "                  num_epochs = num_epoch, \n",
    "                  dropout = dropout,\n",
    "                  print_every = print_every,\n",
    "                  subsampler = True, \n",
    "                  lr_decay=True, \n",
    "                  verbose = True,\n",
    "                  cross_valid = False,\n",
    "                  bidirection = False,\n",
    "                  if_save = True)\n",
    "acc_last_model= test(test_dataset, model_CNN)\n",
    "print(\"70 Epochs for CNN need %s seconds ---\" % (time.time() - start_time))"
   ]
  },
  {
   "cell_type": "markdown",
   "metadata": {},
   "source": [
    "# 2.LSTM"
   ]
  },
  {
   "cell_type": "code",
   "execution_count": 7,
   "metadata": {},
   "outputs": [
    {
     "name": "stdout",
     "output_type": "stream",
     "text": [
      "Cross validation is not implemented\n",
      "===============FOLD 0===============\n",
      "Model Initialized\n",
      "Loss afer 25 epoch: 0.705, with the accuracy 73.422\n",
      "The validation accuracy at epoch 25 is: 81.25\n",
      "Loss afer 50 epoch: 0.436, with the accuracy 83.766\n",
      "The validation accuracy at epoch 50 is: 90.62\n",
      "Loss afer 75 epoch: 0.298, with the accuracy 89.047\n",
      "The validation accuracy at epoch 75 is: 99.22\n",
      "All 5 Folds Completed\n",
      "Fold 0: 98.25697354917173 %\n",
      "Average is:  98.25697354917173 %\n",
      "Saving training results...\n",
      "The test accuracy is: 68.12 %\n",
      "150 Epochs for LSTM need 103.95883774757385 seconds ---\n"
     ]
    }
   ],
   "source": [
    "start_time = time.time()\n",
    "num_epoch = 80\n",
    "dropout = 0.5\n",
    "cross_valid = False\n",
    "model_LSTM = train(x_shape, \n",
    "                  train_dataset, \n",
    "                  'C4LSTM', \n",
    "                  criterion, \n",
    "                  k_folds = k_folds,\n",
    "                  num_epochs = num_epoch, \n",
    "                  dropout = dropout,\n",
    "                  print_every = print_every,\n",
    "                  stack_num = 4,\n",
    "                  subsampler = True, \n",
    "                  lr_decay=True, \n",
    "                  verbose = True,\n",
    "                  cross_valid = False,\n",
    "                  bidirection = True,\n",
    "                  if_save = True)\n",
    "acc_last_model= test(test_dataset, model_LSTM)\n",
    "print(\"150 Epochs for LSTM need %s seconds ---\" % (time.time() - start_time))"
   ]
  },
  {
   "cell_type": "markdown",
   "metadata": {},
   "source": [
    "# 3.GRU"
   ]
  },
  {
   "cell_type": "code",
   "execution_count": 6,
   "metadata": {},
   "outputs": [
    {
     "name": "stdout",
     "output_type": "stream",
     "text": [
      "Cross validation is not implemented\n",
      "===============FOLD 0===============\n",
      "Model Initialized\n",
      "Loss afer 25 epoch: 0.729, with the accuracy 72.281\n",
      "The validation accuracy at epoch 25 is: 82.03\n",
      "Loss afer 50 epoch: 0.443, with the accuracy 83.484\n",
      "The validation accuracy at epoch 50 is: 92.19\n",
      "All 5 Folds Completed\n",
      "Fold 0: 96.16548015453198 %\n",
      "Average is:  96.16548015453198 %\n",
      "Saving training results...\n",
      "The test accuracy is: 68.23 %\n",
      "150 Epochs for GRU need 76.66164994239807 seconds ---\n"
     ]
    }
   ],
   "source": [
    "start_time = time.time()\n",
    "num_epoch = 60\n",
    "dropout = 0.5\n",
    "cross_valid = False\n",
    "model_GRU = train(x_shape, \n",
    "                  train_dataset, \n",
    "                  'C4GRU', \n",
    "                  criterion, \n",
    "                  k_folds = k_folds,\n",
    "                  num_epochs = num_epoch, \n",
    "                  dropout = dropout,\n",
    "                  print_every = print_every,\n",
    "                  stack_num = 4,\n",
    "                  subsampler = True, \n",
    "                  lr_decay=True, \n",
    "                  verbose = True,\n",
    "                  cross_valid = False,\n",
    "                  bidirection = False)\n",
    "acc_last_model= test(test_dataset, model_GRU)\n",
    "print(\"150 Epochs for GRU need %s seconds ---\" % (time.time() - start_time))"
   ]
  },
  {
   "cell_type": "markdown",
   "metadata": {},
   "source": [
    "# 4.Optimization"
   ]
  },
  {
   "cell_type": "code",
   "execution_count": 8,
   "metadata": {},
   "outputs": [
    {
     "name": "stdout",
     "output_type": "stream",
     "text": [
      "[0.5 0.6 0.7 0.8]\n"
     ]
    }
   ],
   "source": [
    "from collections import defaultdict\n",
    "dropout_list = np.linspace(0.5,0.8,4) #4\n",
    "num_epoch_list = np.linspace(50,150,11,dtype=int) #11\n",
    "num_stack_list = np.linspace(2,5,4,dtype=int)# 6\n",
    "\n",
    "CNN_acc_list = []\n",
    "LSTM_acc_list = []\n",
    "GRU_acc_list = []\n",
    "print(dropout_list)"
   ]
  },
  {
   "cell_type": "code",
   "execution_count": 9,
   "metadata": {
    "scrolled": false
   },
   "outputs": [
    {
     "name": "stdout",
     "output_type": "stream",
     "text": [
      "Fold 0: 93.44440855803313 %\n",
      "The test accuracy is: 70.77 %\n",
      "At iteration:  1, now Best Acc is: 70.768\n",
      "Fold 0: 95.93380680790654 %\n",
      "The test accuracy is: 71.73 %\n",
      "At iteration:  2, now Best Acc is: 71.727\n",
      "Fold 0: 97.67524267126012 %\n",
      "The test accuracy is: 74.66 %\n",
      "At iteration:  3, now Best Acc is: 74.661\n",
      "Fold 0: 98.65494198269315 %\n",
      "The test accuracy is: 70.20 %\n",
      "At iteration:  4, now Best Acc is: 74.661\n",
      "Fold 0: 98.62107481779876 %\n",
      "The test accuracy is: 72.35 %\n",
      "At iteration:  5, now Best Acc is: 74.661\n",
      "Fold 0: 99.1814289799443 %\n",
      "The test accuracy is: 71.90 %\n",
      "At iteration:  6, now Best Acc is: 74.661\n",
      "Fold 0: 98.09018650761357 %\n",
      "The test accuracy is: 72.12 %\n",
      "At iteration:  7, now Best Acc is: 74.661\n",
      "Fold 0: 98.56791037100332 %\n",
      "The test accuracy is: 72.35 %\n",
      "At iteration:  8, now Best Acc is: 74.661\n",
      "Fold 0: 99.50421227349176 %\n",
      "The test accuracy is: 71.33 %\n",
      "At iteration:  9, now Best Acc is: 74.661\n",
      "Fold 0: 98.69577987105758 %\n",
      "The test accuracy is: 71.39 %\n",
      "At iteration: 10, now Best Acc is: 74.661\n",
      "Fold 0: 99.41427131935403 %\n",
      "The test accuracy is: 72.46 %\n",
      "At iteration: 11, now Best Acc is: 74.661\n",
      "Fold 0: 85.46596837926793 %\n",
      "The test accuracy is: 68.79 %\n",
      "At iteration: 12, now Best Acc is: 74.661\n",
      "Fold 0: 84.58649359809027 %\n",
      "The test accuracy is: 70.09 %\n",
      "At iteration: 13, now Best Acc is: 74.661\n",
      "Fold 0: 87.13264889187283 %\n",
      "The test accuracy is: 71.73 %\n",
      "At iteration: 14, now Best Acc is: 74.661\n",
      "Fold 0: 86.26286711516204 %\n",
      "The test accuracy is: 70.20 %\n",
      "At iteration: 15, now Best Acc is: 74.661\n",
      "Fold 0: 90.48031164098668 %\n",
      "The test accuracy is: 71.84 %\n",
      "At iteration: 16, now Best Acc is: 74.661\n",
      "Fold 0: 91.50701791268808 %\n",
      "The test accuracy is: 71.84 %\n",
      "At iteration: 17, now Best Acc is: 74.661\n",
      "Fold 0: 92.09242418077257 %\n",
      "The test accuracy is: 69.70 %\n",
      "At iteration: 18, now Best Acc is: 74.661\n",
      "Fold 0: 92.51389086688006 %\n",
      "The test accuracy is: 69.41 %\n",
      "At iteration: 19, now Best Acc is: 74.661\n",
      "Fold 0: 92.584267227738 %\n",
      "The test accuracy is: 72.12 %\n",
      "At iteration: 20, now Best Acc is: 74.661\n",
      "Fold 0: 94.45661445900247 %\n",
      "The test accuracy is: 72.52 %\n",
      "At iteration: 21, now Best Acc is: 74.661\n",
      "Fold 0: 93.67997713442202 %\n",
      "The test accuracy is: 72.23 %\n",
      "At iteration: 22, now Best Acc is: 74.661\n",
      "Fold 0: 68.45364323368779 %\n",
      "The test accuracy is: 61.57 %\n",
      "At iteration: 23, now Best Acc is: 74.661\n",
      "Fold 0: 70.52854580349393 %\n",
      "The test accuracy is: 65.18 %\n",
      "At iteration: 24, now Best Acc is: 74.661\n",
      "Fold 0: 74.32765565095124 %\n",
      "The test accuracy is: 65.24 %\n",
      "At iteration: 25, now Best Acc is: 74.661\n",
      "Fold 0: 76.0028988873517 %\n",
      "The test accuracy is: 68.12 %\n",
      "At iteration: 26, now Best Acc is: 74.661\n",
      "Fold 0: 77.56019140172887 %\n",
      "The test accuracy is: 67.21 %\n",
      "At iteration: 27, now Best Acc is: 74.661\n",
      "Fold 0: 80.087400648329 %\n",
      "The test accuracy is: 71.28 %\n",
      "At iteration: 28, now Best Acc is: 74.661\n",
      "Fold 0: 78.75091920075593 %\n",
      "The test accuracy is: 69.75 %\n",
      "At iteration: 29, now Best Acc is: 74.661\n",
      "Fold 0: 81.26388097692418 %\n",
      "The test accuracy is: 68.34 %\n",
      "At iteration: 30, now Best Acc is: 74.661\n",
      "Fold 0: 80.27243917959707 %\n",
      "The test accuracy is: 68.74 %\n",
      "At iteration: 31, now Best Acc is: 74.661\n",
      "Fold 0: 81.84748981617115 %\n",
      "The test accuracy is: 71.11 %\n",
      "At iteration: 32, now Best Acc is: 74.661\n",
      "Fold 0: 81.42653401692708 %\n",
      "The test accuracy is: 68.85 %\n",
      "At iteration: 33, now Best Acc is: 74.661\n",
      "Fold 0: 50.0010871887207 %\n",
      "The test accuracy is: 47.91 %\n",
      "At iteration: 34, now Best Acc is: 74.661\n",
      "Fold 0: 52.92366098474573 %\n",
      "The test accuracy is: 48.08 %\n",
      "At iteration: 35, now Best Acc is: 74.661\n",
      "Fold 0: 52.69126143278899 %\n",
      "The test accuracy is: 48.36 %\n",
      "At iteration: 36, now Best Acc is: 74.661\n",
      "Fold 0: 56.915712709780095 %\n",
      "The test accuracy is: 49.83 %\n",
      "At iteration: 37, now Best Acc is: 74.661\n",
      "Fold 0: 56.60403583667897 %\n",
      "The test accuracy is: 50.45 %\n",
      "At iteration: 38, now Best Acc is: 74.661\n",
      "Fold 0: 54.43725840250651 %\n",
      "The test accuracy is: 49.89 %\n",
      "At iteration: 39, now Best Acc is: 74.661\n",
      "Fold 0: 60.9116983766909 %\n",
      "The test accuracy is: 50.40 %\n",
      "At iteration: 40, now Best Acc is: 74.661\n",
      "Fold 0: 59.738012384485316 %\n",
      "The test accuracy is: 54.23 %\n",
      "At iteration: 41, now Best Acc is: 74.661\n",
      "Fold 0: 62.92985181455259 %\n",
      "The test accuracy is: 54.06 %\n",
      "At iteration: 42, now Best Acc is: 74.661\n",
      "Fold 0: 63.316424193205656 %\n",
      "The test accuracy is: 55.47 %\n",
      "At iteration: 43, now Best Acc is: 74.661\n",
      "Fold 0: 66.94441110116465 %\n",
      "The test accuracy is: 55.08 %\n",
      "At iteration: 44, now Best Acc is: 74.661\n",
      "Best Acc is: 74.661 with dropout: 0.50 and num_epoch: epoch: 70\n"
     ]
    }
   ],
   "source": [
    "largest_acc = 0.0\n",
    "best_dropout = 0.0\n",
    "best_num = 0\n",
    "cnt = 0\n",
    "for dropout in dropout_list:\n",
    "    for num_epoch in num_epoch_list:\n",
    "        cnt += 1\n",
    "        key = (dropout,num_epoch)\n",
    "        model_CNN = train(x_shape, \n",
    "                  train_dataset, \n",
    "                  'CNN', \n",
    "                  criterion, \n",
    "                  k_folds = k_folds,\n",
    "                  num_epochs = num_epoch, \n",
    "                  dropout = dropout,\n",
    "                  print_every = print_every,\n",
    "                  subsampler = True, \n",
    "                  lr_decay=True, \n",
    "                  verbose = False,\n",
    "                  cross_valid = False,\n",
    "                  bidirection = False,\n",
    "                  if_save = False)\n",
    "        acc= test(test_dataset, model_CNN)\n",
    "        if largest_acc < acc:\n",
    "            largest_acc = acc\n",
    "            best_dropout = dropout\n",
    "            best_num = num_epoch\n",
    "        CNN_acc_list.append([key,acc.item()])\n",
    "        print('At iteration: %2d, now Best Acc is: %.3f' %(cnt, largest_acc))\n",
    "print('Best Acc is: %.3f with dropout: %.2f and num_epoch: epoch: %2d' %(largest_acc, best_dropout, best_num))"
   ]
  },
  {
   "cell_type": "code",
   "execution_count": 10,
   "metadata": {},
   "outputs": [
    {
     "name": "stdout",
     "output_type": "stream",
     "text": [
      "[[(0.5, 50), 70.76750183105469], [(0.5, 60), 71.72686767578125], [(0.5, 70), 74.66140747070312], [(0.5, 80), 70.20316314697266], [(0.5, 90), 72.34762573242188], [(0.5, 100), 71.89616394042969], [(0.5, 110), 72.12190246582031], [(0.5, 120), 72.34762573242188], [(0.5, 130), 71.33182525634766], [(0.5, 140), 71.38825988769531], [(0.5, 150), 72.46049499511719], [(0.6, 50), 68.79232788085938], [(0.6, 60), 70.09029388427734], [(0.6, 70), 71.72686767578125], [(0.6, 80), 70.20316314697266], [(0.6, 90), 71.83972930908203], [(0.6, 100), 71.83972930908203], [(0.6, 110), 69.69526672363281], [(0.6, 120), 69.41309356689453], [(0.6, 130), 72.12190246582031], [(0.6, 140), 72.51692962646484], [(0.6, 150), 72.2347640991211], [(0.7000000000000001, 50), 61.568851470947266], [(0.7000000000000001, 60), 65.18058776855469], [(0.7000000000000001, 70), 65.23702239990234], [(0.7000000000000001, 80), 68.11512756347656], [(0.7000000000000001, 90), 67.21218872070312], [(0.7000000000000001, 100), 71.27539825439453], [(0.7000000000000001, 110), 69.75169372558594], [(0.7000000000000001, 120), 68.34085845947266], [(0.7000000000000001, 130), 68.73589324951172], [(0.7000000000000001, 140), 71.10609436035156], [(0.7000000000000001, 150), 68.84876251220703], [(0.8, 50), 47.911964416503906], [(0.8, 60), 48.08126449584961], [(0.8, 70), 48.363433837890625], [(0.8, 80), 49.83070373535156], [(0.8, 90), 50.45146942138672], [(0.8, 100), 49.88713455200195], [(0.8, 110), 50.39503479003906], [(0.8, 120), 54.23250961303711], [(0.8, 130), 54.06320571899414], [(0.8, 140), 55.47404479980469], [(0.8, 150), 55.07900619506836]]\n"
     ]
    }
   ],
   "source": [
    "print(CNN_acc_list)"
   ]
  },
  {
   "cell_type": "code",
   "execution_count": 11,
   "metadata": {},
   "outputs": [
    {
     "name": "stdout",
     "output_type": "stream",
     "text": [
      "Fold 0: 93.2421462447555 %\n",
      "The test accuracy is: 66.08 %\n",
      "At iteration:  1, now Best Acc is: 66.084\n",
      "Fold 0: 97.79087405734592 %\n",
      "The test accuracy is: 65.07 %\n",
      "At iteration:  2, now Best Acc is: 66.084\n",
      "Fold 0: 98.61341518825955 %\n",
      "The test accuracy is: 65.97 %\n",
      "At iteration:  3, now Best Acc is: 66.084\n",
      "Fold 0: 98.05196380615234 %\n",
      "The test accuracy is: 67.78 %\n",
      "At iteration:  4, now Best Acc is: 67.777\n",
      "Fold 0: 99.30338880750868 %\n",
      "The test accuracy is: 64.56 %\n",
      "At iteration:  5, now Best Acc is: 67.777\n",
      "Fold 0: 99.47200605604384 %\n",
      "The test accuracy is: 63.66 %\n",
      "At iteration:  6, now Best Acc is: 67.777\n",
      "Fold 0: 99.02036963568793 %\n",
      "The test accuracy is: 66.31 %\n",
      "At iteration:  7, now Best Acc is: 67.777\n",
      "Fold 0: 99.21719106038411 %\n",
      "The test accuracy is: 65.63 %\n",
      "At iteration:  8, now Best Acc is: 67.777\n",
      "Fold 0: 99.77560142234519 %\n",
      "The test accuracy is: 64.33 %\n",
      "At iteration:  9, now Best Acc is: 67.777\n",
      "Fold 0: 99.46371714274089 %\n",
      "The test accuracy is: 64.95 %\n",
      "At iteration: 10, now Best Acc is: 67.777\n",
      "Fold 0: 99.65880019576461 %\n",
      "The test accuracy is: 67.27 %\n",
      "At iteration: 11, now Best Acc is: 67.777\n",
      "Fold 0: 94.42973808006003 %\n",
      "The test accuracy is: 66.08 %\n",
      "At iteration: 12, now Best Acc is: 67.777\n",
      "Fold 0: 96.36388001618562 %\n",
      "The test accuracy is: 67.10 %\n",
      "At iteration: 13, now Best Acc is: 67.777\n",
      "Fold 0: 98.21268434877749 %\n",
      "The test accuracy is: 66.48 %\n",
      "At iteration: 14, now Best Acc is: 67.777\n",
      "Fold 0: 98.96341479266131 %\n",
      "The test accuracy is: 68.79 %\n",
      "At iteration: 15, now Best Acc is: 68.792\n",
      "Fold 0: 98.40623813205295 %\n",
      "The test accuracy is: 65.01 %\n",
      "At iteration: 16, now Best Acc is: 68.792\n",
      "Fold 0: 99.52612559000652 %\n",
      "The test accuracy is: 68.34 %\n",
      "At iteration: 17, now Best Acc is: 68.792\n",
      "Fold 0: 98.85811473705151 %\n",
      "The test accuracy is: 65.80 %\n",
      "At iteration: 18, now Best Acc is: 68.792\n",
      "Fold 0: 99.55135543258102 %\n",
      "The test accuracy is: 65.69 %\n",
      "At iteration: 19, now Best Acc is: 68.792\n",
      "Fold 0: 99.33487362331815 %\n",
      "The test accuracy is: 66.70 %\n",
      "At iteration: 20, now Best Acc is: 68.792\n",
      "Fold 0: 99.89552250614872 %\n",
      "The test accuracy is: 67.10 %\n",
      "At iteration: 21, now Best Acc is: 68.792\n",
      "Fold 0: 99.74821641710069 %\n",
      "The test accuracy is: 67.21 %\n",
      "At iteration: 22, now Best Acc is: 68.792\n",
      "Fold 0: 94.55104064941406 %\n",
      "The test accuracy is: 64.50 %\n",
      "At iteration: 23, now Best Acc is: 68.792\n",
      "Fold 0: 95.93672801830151 %\n",
      "The test accuracy is: 65.35 %\n",
      "At iteration: 24, now Best Acc is: 68.792\n",
      "Fold 0: 98.35996048538773 %\n",
      "The test accuracy is: 65.86 %\n",
      "At iteration: 25, now Best Acc is: 68.792\n",
      "Fold 0: 99.16993911178024 %\n",
      "The test accuracy is: 69.92 %\n",
      "At iteration: 26, now Best Acc is: 69.921\n",
      "Fold 0: 99.01907998544199 %\n",
      "The test accuracy is: 66.42 %\n",
      "At iteration: 27, now Best Acc is: 69.921\n",
      "Fold 0: 99.28239017062717 %\n",
      "The test accuracy is: 66.14 %\n",
      "At iteration: 28, now Best Acc is: 69.921\n",
      "Fold 0: 99.16128229211878 %\n",
      "The test accuracy is: 66.87 %\n",
      "At iteration: 29, now Best Acc is: 69.921\n",
      "Fold 0: 99.66473303900824 %\n",
      "The test accuracy is: 68.40 %\n",
      "At iteration: 30, now Best Acc is: 69.921\n",
      "Fold 0: 99.55030624954789 %\n",
      "The test accuracy is: 67.33 %\n",
      "At iteration: 31, now Best Acc is: 69.921\n",
      "Fold 0: 99.64234641746238 %\n",
      "The test accuracy is: 69.13 %\n",
      "At iteration: 32, now Best Acc is: 69.921\n",
      "Fold 0: 99.51131806550202 %\n",
      "The test accuracy is: 67.61 %\n",
      "At iteration: 33, now Best Acc is: 69.921\n",
      "Fold 0: 93.69966775399668 %\n",
      "The test accuracy is: 65.29 %\n",
      "At iteration: 34, now Best Acc is: 69.921\n",
      "Fold 0: 96.43485429551866 %\n",
      "The test accuracy is: 65.74 %\n",
      "At iteration: 35, now Best Acc is: 69.921\n",
      "Fold 0: 98.14571832727503 %\n",
      "The test accuracy is: 65.97 %\n",
      "At iteration: 36, now Best Acc is: 69.921\n",
      "Fold 0: 98.86587835241247 %\n",
      "The test accuracy is: 65.80 %\n",
      "At iteration: 37, now Best Acc is: 69.921\n",
      "Fold 0: 98.51419858579283 %\n",
      "The test accuracy is: 67.78 %\n",
      "At iteration: 38, now Best Acc is: 69.921\n",
      "Fold 0: 99.03630376745153 %\n",
      "The test accuracy is: 66.37 %\n",
      "At iteration: 39, now Best Acc is: 69.921\n",
      "Fold 0: 99.40963942916305 %\n",
      "The test accuracy is: 66.25 %\n",
      "At iteration: 40, now Best Acc is: 69.921\n",
      "Fold 0: 99.91439112910518 %\n",
      "The test accuracy is: 66.20 %\n",
      "At iteration: 41, now Best Acc is: 69.921\n",
      "Fold 0: 99.26322032787182 %\n",
      "The test accuracy is: 65.41 %\n",
      "At iteration: 42, now Best Acc is: 69.921\n",
      "Fold 0: 99.56341694019459 %\n",
      "The test accuracy is: 66.53 %\n",
      "At iteration: 43, now Best Acc is: 69.921\n",
      "Fold 0: 99.59445416485822 %\n",
      "The test accuracy is: 69.19 %\n",
      "At iteration: 44, now Best Acc is: 69.921\n",
      "Best Acc is: 69.921 with stack number: 5.00 and num_epoch: epoch: 80\n"
     ]
    }
   ],
   "source": [
    "largest_acc_LSTM = 0.0\n",
    "cnt = 0\n",
    "for num_stack in num_stack_list:\n",
    "    for num_epoch in num_epoch_list:\n",
    "        cnt += 1\n",
    "        key = (num_stack,num_epoch)\n",
    "        model_LSTM = train(x_shape, \n",
    "                  train_dataset, \n",
    "                  'LSTM', \n",
    "                  criterion, \n",
    "                  k_folds = k_folds,\n",
    "                  num_epochs = num_epoch, \n",
    "                  dropout = best_dropout,\n",
    "                  print_every = print_every,\n",
    "                  stack_num = num_stack,\n",
    "                  subsampler = True, \n",
    "                  lr_decay=True, \n",
    "                  verbose = False,\n",
    "                  cross_valid = False,\n",
    "                  bidirection = False,\n",
    "                  if_save = False)\n",
    "        acc= test(test_dataset, model_LSTM)\n",
    "        if largest_acc_LSTM < acc:\n",
    "            largest_acc_LSTM = acc\n",
    "            best_stack = num_stack\n",
    "            best_num = num_epoch\n",
    "        LSTM_acc_list.append([key,acc.item()])\n",
    "        print('At iteration: %2d, now Best Acc is: %.3f' %(cnt, largest_acc_LSTM))\n",
    "print('Best Acc is: %.3f with stack number: %.2f and num_epoch: epoch: %2d' %(largest_acc_LSTM, num_stack, best_num))"
   ]
  },
  {
   "cell_type": "code",
   "execution_count": 12,
   "metadata": {},
   "outputs": [
    {
     "name": "stdout",
     "output_type": "stream",
     "text": [
      "[[(2, 50), 66.0835189819336], [(2, 60), 65.06771850585938], [(2, 70), 65.97064971923828], [(2, 80), 67.77652740478516], [(2, 90), 64.55982208251953], [(2, 100), 63.656883239746094], [(2, 110), 66.30925750732422], [(2, 120), 65.6320571899414], [(2, 130), 64.33409118652344], [(2, 140), 64.95484924316406], [(2, 150), 67.26862335205078], [(3, 50), 66.0835189819336], [(3, 60), 67.09932708740234], [(3, 70), 66.47855377197266], [(3, 80), 68.79232788085938], [(3, 90), 65.01128387451172], [(3, 100), 68.34085845947266], [(3, 110), 65.80136108398438], [(3, 120), 65.68849182128906], [(3, 130), 66.70429229736328], [(3, 140), 67.09932708740234], [(3, 150), 67.21218872070312], [(4, 50), 64.50338745117188], [(4, 60), 65.34989166259766], [(4, 70), 65.8577880859375], [(4, 80), 69.92098999023438], [(4, 90), 66.422119140625], [(4, 100), 66.13995361328125], [(4, 110), 66.87358856201172], [(4, 120), 68.39729309082031], [(4, 130), 67.32505798339844], [(4, 140), 69.13092803955078], [(4, 150), 67.60722351074219], [(5, 50), 65.29345703125], [(5, 60), 65.74492645263672], [(5, 70), 65.97064971923828], [(5, 80), 65.80136108398438], [(5, 90), 67.77652740478516], [(5, 100), 66.36569213867188], [(5, 110), 66.25282287597656], [(5, 120), 66.1963882446289], [(5, 130), 65.40632629394531], [(5, 140), 66.53498840332031], [(5, 150), 69.18736267089844]]\n"
     ]
    }
   ],
   "source": [
    "print(LSTM_acc_list)"
   ]
  },
  {
   "cell_type": "code",
   "execution_count": 13,
   "metadata": {},
   "outputs": [
    {
     "name": "stdout",
     "output_type": "stream",
     "text": [
      "Fold 0: 96.6848240605107 %\n",
      "The test accuracy is: 65.80 %\n",
      "At iteration:  1, now Best Acc is: 65.801\n",
      "Fold 0: 96.72838959870515 %\n",
      "The test accuracy is: 66.65 %\n",
      "At iteration:  2, now Best Acc is: 66.648\n",
      "Fold 0: 99.04674219202113 %\n",
      "The test accuracy is: 66.48 %\n",
      "At iteration:  3, now Best Acc is: 66.648\n",
      "Fold 0: 99.30813485604746 %\n",
      "The test accuracy is: 67.66 %\n",
      "At iteration:  4, now Best Acc is: 67.664\n",
      "Fold 0: 99.42058648003473 %\n",
      "The test accuracy is: 64.22 %\n",
      "At iteration:  5, now Best Acc is: 67.664\n",
      "Fold 0: 99.90989939371745 %\n",
      "The test accuracy is: 65.80 %\n",
      "At iteration:  6, now Best Acc is: 67.664\n",
      "Fold 0: 99.65706521493418 %\n",
      "The test accuracy is: 68.28 %\n",
      "At iteration:  7, now Best Acc is: 68.284\n",
      "Fold 0: 98.76731476960359 %\n",
      "The test accuracy is: 66.76 %\n",
      "At iteration:  8, now Best Acc is: 68.284\n",
      "Fold 0: 99.213458025897 %\n",
      "The test accuracy is: 66.70 %\n",
      "At iteration:  9, now Best Acc is: 68.284\n",
      "Fold 0: 99.03294033474393 %\n",
      "The test accuracy is: 69.86 %\n",
      "At iteration: 10, now Best Acc is: 69.865\n",
      "Fold 0: 99.06319455747251 %\n",
      "The test accuracy is: 66.76 %\n",
      "At iteration: 11, now Best Acc is: 69.865\n",
      "Fold 0: 92.93041342276113 %\n",
      "The test accuracy is: 64.84 %\n",
      "At iteration: 12, now Best Acc is: 69.865\n",
      "Fold 0: 95.78468237982855 %\n",
      "The test accuracy is: 66.37 %\n",
      "At iteration: 13, now Best Acc is: 69.865\n",
      "Fold 0: 97.5458721584744 %\n",
      "The test accuracy is: 67.16 %\n",
      "At iteration: 14, now Best Acc is: 69.865\n",
      "Fold 0: 97.89520461470993 %\n",
      "The test accuracy is: 68.34 %\n",
      "At iteration: 15, now Best Acc is: 69.865\n",
      "Fold 0: 99.00648865876374 %\n",
      "The test accuracy is: 67.72 %\n",
      "At iteration: 16, now Best Acc is: 69.865\n",
      "Fold 0: 98.24870130750868 %\n",
      "The test accuracy is: 63.43 %\n",
      "At iteration: 17, now Best Acc is: 69.865\n",
      "Fold 0: 98.52548782913773 %\n",
      "The test accuracy is: 67.04 %\n",
      "At iteration: 18, now Best Acc is: 69.865\n",
      "Fold 0: 99.21249078821253 %\n",
      "The test accuracy is: 68.28 %\n",
      "At iteration: 19, now Best Acc is: 69.865\n",
      "Fold 0: 99.12078348795573 %\n",
      "The test accuracy is: 67.89 %\n",
      "At iteration: 20, now Best Acc is: 69.865\n",
      "Fold 0: 99.25044561315465 %\n",
      "The test accuracy is: 70.26 %\n",
      "At iteration: 21, now Best Acc is: 70.260\n",
      "Fold 0: 99.42252773708768 %\n",
      "The test accuracy is: 66.48 %\n",
      "At iteration: 22, now Best Acc is: 70.260\n",
      "Fold 0: 92.69859285707827 %\n",
      "The test accuracy is: 65.58 %\n",
      "At iteration: 23, now Best Acc is: 70.260\n",
      "Fold 0: 95.67086707221137 %\n",
      "The test accuracy is: 70.71 %\n",
      "At iteration: 24, now Best Acc is: 70.711\n",
      "Fold 0: 96.79300039785879 %\n",
      "The test accuracy is: 66.31 %\n",
      "At iteration: 25, now Best Acc is: 70.711\n",
      "Fold 0: 97.7381687870732 %\n",
      "The test accuracy is: 67.44 %\n",
      "At iteration: 26, now Best Acc is: 70.711\n",
      "Fold 0: 99.45501624213324 %\n",
      "The test accuracy is: 67.16 %\n",
      "At iteration: 27, now Best Acc is: 70.711\n",
      "Fold 0: 98.95646497938368 %\n",
      "The test accuracy is: 65.69 %\n",
      "At iteration: 28, now Best Acc is: 70.711\n",
      "Fold 0: 98.99583632857711 %\n",
      "The test accuracy is: 66.20 %\n",
      "At iteration: 29, now Best Acc is: 70.711\n",
      "Fold 0: 99.06239601417825 %\n",
      "The test accuracy is: 65.24 %\n",
      "At iteration: 30, now Best Acc is: 70.711\n",
      "Fold 0: 99.3588725902416 %\n",
      "The test accuracy is: 66.70 %\n",
      "At iteration: 31, now Best Acc is: 70.711\n",
      "Fold 0: 99.42892540825738 %\n",
      "The test accuracy is: 65.52 %\n",
      "At iteration: 32, now Best Acc is: 70.711\n",
      "Fold 0: 100.0 %\n",
      "The test accuracy is: 67.72 %\n",
      "At iteration: 33, now Best Acc is: 70.711\n",
      "Fold 0: 92.23837393301504 %\n",
      "The test accuracy is: 67.44 %\n",
      "At iteration: 34, now Best Acc is: 70.711\n",
      "Fold 0: 96.20120493570964 %\n",
      "The test accuracy is: 67.72 %\n",
      "At iteration: 35, now Best Acc is: 70.711\n",
      "Fold 0: 97.0163249263057 %\n",
      "The test accuracy is: 67.27 %\n",
      "At iteration: 36, now Best Acc is: 70.711\n",
      "Fold 0: 97.2662845187717 %\n",
      "The test accuracy is: 66.48 %\n",
      "At iteration: 37, now Best Acc is: 70.711\n",
      "Fold 0: 98.8719649138274 %\n",
      "The test accuracy is: 68.68 %\n",
      "At iteration: 38, now Best Acc is: 70.711\n",
      "Fold 0: 98.57104266131365 %\n",
      "The test accuracy is: 68.96 %\n",
      "At iteration: 39, now Best Acc is: 70.711\n",
      "Fold 0: 99.40267040111401 %\n",
      "The test accuracy is: 68.68 %\n",
      "At iteration: 40, now Best Acc is: 70.711\n",
      "Fold 0: 99.66209496392145 %\n",
      "The test accuracy is: 66.31 %\n",
      "At iteration: 41, now Best Acc is: 70.711\n",
      "Fold 0: 99.4029803805881 %\n",
      "The test accuracy is: 68.51 %\n",
      "At iteration: 42, now Best Acc is: 70.711\n",
      "Fold 0: 99.38064236111111 %\n",
      "The test accuracy is: 66.70 %\n",
      "At iteration: 43, now Best Acc is: 70.711\n",
      "Fold 0: 99.95082064028139 %\n",
      "The test accuracy is: 66.76 %\n",
      "At iteration: 44, now Best Acc is: 70.711\n",
      "Best Acc is: 70.711 with stack number: 5.00 and num_epoch: epoch: 60\n"
     ]
    }
   ],
   "source": [
    "largest_acc_GRU = 0.0\n",
    "cnt = 0\n",
    "for num_stack in num_stack_list:\n",
    "    for num_epoch in num_epoch_list:\n",
    "        cnt += 1\n",
    "        key = (num_stack,num_epoch)\n",
    "        model_GRU = train(x_shape, \n",
    "                  train_dataset, \n",
    "                  'GRU', \n",
    "                  criterion, \n",
    "                  k_folds = k_folds,\n",
    "                  num_epochs = num_epoch, \n",
    "                  dropout = best_dropout,\n",
    "                  print_every = print_every,\n",
    "                  stack_num = num_stack,\n",
    "                  subsampler = True, \n",
    "                  lr_decay=True, \n",
    "                  verbose = False,\n",
    "                  cross_valid = False,\n",
    "                  bidirection = True,\n",
    "                  if_save = False)\n",
    "        acc= test(test_dataset, model_GRU)\n",
    "        if largest_acc_GRU < acc:\n",
    "            largest_acc_GRU = acc\n",
    "            best_stack = num_stack\n",
    "            best_num = num_epoch\n",
    "        GRU_acc_list.append([key,acc.item()])\n",
    "        print('At iteration: %2d, now Best Acc is: %.3f' %(cnt, largest_acc_GRU))\n",
    "print('Best Acc is: %.3f with stack number: %.2f and num_epoch: epoch: %2d' %(largest_acc_GRU, num_stack, best_num))"
   ]
  },
  {
   "cell_type": "code",
   "execution_count": 14,
   "metadata": {
    "scrolled": true
   },
   "outputs": [
    {
     "name": "stdout",
     "output_type": "stream",
     "text": [
      "[[(2, 50), 65.80136108398438], [(2, 60), 66.64785766601562], [(2, 70), 66.47855377197266], [(2, 80), 67.66365814208984], [(2, 90), 64.22122192382812], [(2, 100), 65.80136108398438], [(2, 110), 68.28443145751953], [(2, 120), 66.76072692871094], [(2, 130), 66.70429229736328], [(2, 140), 69.86456298828125], [(2, 150), 66.76072692871094], [(3, 50), 64.84198760986328], [(3, 60), 66.36569213867188], [(3, 70), 67.15576171875], [(3, 80), 68.34085845947266], [(3, 90), 67.7200927734375], [(3, 100), 63.431156158447266], [(3, 110), 67.04289245605469], [(3, 120), 68.28443145751953], [(3, 130), 67.88938903808594], [(3, 140), 70.25959777832031], [(3, 150), 66.47855377197266], [(4, 50), 65.57562255859375], [(4, 60), 70.71106719970703], [(4, 70), 66.30925750732422], [(4, 80), 67.43791961669922], [(4, 90), 67.15576171875], [(4, 100), 65.68849182128906], [(4, 110), 66.1963882446289], [(4, 120), 65.23702239990234], [(4, 130), 66.70429229736328], [(4, 140), 65.5191879272461], [(4, 150), 67.7200927734375], [(5, 50), 67.43791961669922], [(5, 60), 67.7200927734375], [(5, 70), 67.26862335205078], [(5, 80), 66.47855377197266], [(5, 90), 68.67945861816406], [(5, 100), 68.96162414550781], [(5, 110), 68.67945861816406], [(5, 120), 66.30925750732422], [(5, 130), 68.5101547241211], [(5, 140), 66.70429229736328], [(5, 150), 66.76072692871094]]\n"
     ]
    }
   ],
   "source": [
    "print(GRU_acc_list)"
   ]
  },
  {
   "cell_type": "markdown",
   "metadata": {},
   "source": [
    "# Optimize 2 - Try Pure RNN and C2RNN"
   ]
  },
  {
   "cell_type": "code",
   "execution_count": 11,
   "metadata": {
    "scrolled": true
   },
   "outputs": [
    {
     "name": "stdout",
     "output_type": "stream",
     "text": [
      "Cross validation is not implemented\n",
      "===============FOLD 0===============\n",
      "Model Initialized\n",
      "Loss afer 10 epoch: 0.043, with the average accuracy 98.767\n",
      "The validation accuracy at epoch 10 is: 97.66\n",
      "All 5 Folds Completed\n",
      "Fold 0: 98.00751664903429 %\n",
      "Average is:  98.00751664903429 %\n",
      "Saving training results...\n",
      "The test accuracy is: 64.33 %\n",
      "10 Epochs for Pure LSTM need 89.56885385513306 seconds ---\n"
     ]
    }
   ],
   "source": [
    "start_time = time.time()\n",
    "num_epoch = 10\n",
    "dropout = 0.5\n",
    "cross_valid = False\n",
    "num_stack = 4\n",
    "model_LSTM = train(x_shape, \n",
    "                  train_dataset, \n",
    "                  'LSTM', \n",
    "                  criterion, \n",
    "                  k_folds = k_folds,\n",
    "                  num_epochs = num_epoch, \n",
    "                  dropout = dropout,\n",
    "                  print_every = 10,\n",
    "                  stack_num = num_stack,\n",
    "                  subsampler = False, \n",
    "                  lr_decay=True, \n",
    "                  verbose = True,\n",
    "                  cross_valid = False,\n",
    "                  bidirection = True,\n",
    "                  if_save = False)\n",
    "acc_last_model= test(test_dataset, model_LSTM)\n",
    "print(\"10 Epochs for Pure LSTM need %s seconds ---\" % (time.time() - start_time))"
   ]
  },
  {
   "cell_type": "code",
   "execution_count": 12,
   "metadata": {},
   "outputs": [
    {
     "name": "stdout",
     "output_type": "stream",
     "text": [
      "Cross validation is not implemented\n",
      "===============FOLD 0===============\n",
      "Model Initialized\n",
      "Loss afer 10 epoch: 0.053, with the average accuracy 99.025\n",
      "The validation accuracy at epoch 10 is: 94.53\n",
      "All 5 Folds Completed\n",
      "Fold 0: 97.51563347710504 %\n",
      "Average is:  97.51563347710504 %\n",
      "Saving training results...\n",
      "The test accuracy is: 65.52 %\n",
      "10 Epochs for Pure GRU need 170.93080520629883 seconds ---\n"
     ]
    }
   ],
   "source": [
    "num_epoch = 10\n",
    "model_LSTM = train(x_shape, \n",
    "                  train_dataset, \n",
    "                  'GRU', \n",
    "                  criterion, \n",
    "                  k_folds = k_folds,\n",
    "                  num_epochs = num_epoch, \n",
    "                  dropout = dropout,\n",
    "                  print_every = 10,\n",
    "                  stack_num = num_stack,\n",
    "                  subsampler = False, \n",
    "                  lr_decay=True, \n",
    "                  verbose = True,\n",
    "                  cross_valid = False,\n",
    "                  bidirection = True,\n",
    "                  if_save = False)\n",
    "acc_last_model= test(test_dataset, model_LSTM)\n",
    "print(\"10 Epochs for Pure GRU need %s seconds ---\" % (time.time() - start_time))"
   ]
  },
  {
   "cell_type": "code",
   "execution_count": 13,
   "metadata": {},
   "outputs": [
    {
     "name": "stdout",
     "output_type": "stream",
     "text": [
      "Cross validation is not implemented\n",
      "===============FOLD 0===============\n",
      "Model Initialized\n",
      "Loss afer 25 epoch: 0.999, with the average accuracy 56.521\n",
      "The validation accuracy at epoch 25 is: 32.03\n",
      "Loss afer 50 epoch: 0.979, with the average accuracy 59.226\n",
      "The validation accuracy at epoch 50 is: 33.59\n",
      "Loss afer 75 epoch: 0.970, with the average accuracy 61.457\n",
      "The validation accuracy at epoch 75 is: 32.03\n",
      "Loss afer 100 epoch: 0.970, with the average accuracy 56.492\n",
      "The validation accuracy at epoch 100 is: 33.59\n",
      "All 5 Folds Completed\n",
      "Fold 0: 37.555619376046316 %\n",
      "Average is:  37.555619376046316 %\n",
      "Saving training results...\n",
      "The test accuracy is: 42.44 %\n"
     ]
    }
   ],
   "source": [
    "num_epoch = 100\n",
    "dropout = 0.5\n",
    "cross_valid = False\n",
    "num_stack = 4\n",
    "model_CNN = train(x_shape2, \n",
    "                  train_dataset2, \n",
    "                  'CNN', \n",
    "                  criterion, \n",
    "                  k_folds = k_folds,\n",
    "                  num_epochs = num_epoch, \n",
    "                  dropout = dropout,\n",
    "                  print_every = 25,\n",
    "                  stack_num = num_stack,\n",
    "                  subsampler = False, \n",
    "                  lr_decay=True, \n",
    "                  verbose = True,\n",
    "                  cross_valid = False,\n",
    "                  bidirection = True,\n",
    "                  if_save = False)\n",
    "acc_last_model= test(test_dataset2, model_CNN)"
   ]
  },
  {
   "cell_type": "code",
   "execution_count": 6,
   "metadata": {},
   "outputs": [
    {
     "name": "stdout",
     "output_type": "stream",
     "text": [
      "Cross validation is not implemented\n",
      "===============FOLD 0===============\n"
     ]
    },
    {
     "name": "stderr",
     "output_type": "stream",
     "text": [
      "C:\\Users\\Rong\\anaconda3\\lib\\site-packages\\torch\\nn\\modules\\conv.py:442: UserWarning: Using padding='same' with even kernel lengths and odd dilation may require a zero-padded copy of the input be created (Triggered internally at  ..\\aten\\src\\ATen\\native\\Convolution.cpp:647.)\n",
      "  return F.conv2d(input, weight, bias, self.stride,\n"
     ]
    },
    {
     "name": "stdout",
     "output_type": "stream",
     "text": [
      "Model Initialized\n",
      "Loss afer 25 epoch: 1.055, with the average accuracy 52.919\n",
      "The validation accuracy at epoch 25 is: 43.75\n",
      "Loss afer 50 epoch: 0.809, with the average accuracy 66.245\n",
      "The validation accuracy at epoch 50 is: 52.34\n",
      "All 5 Folds Completed\n",
      "Fold 0: 57.5751702444894 %\n",
      "Average is:  57.5751702444894 %\n",
      "Saving training results...\n",
      "The test accuracy is: 56.21 %\n"
     ]
    }
   ],
   "source": [
    "num_epoch = 60\n",
    "dropout = 0.5\n",
    "cross_valid = False\n",
    "num_stack = 4\n",
    "model_C4GRU = train(x_shape2, \n",
    "                  train_dataset2, \n",
    "                  'C4GRU', \n",
    "                  criterion, \n",
    "                  k_folds = k_folds,\n",
    "                  num_epochs = num_epoch, \n",
    "                  dropout = dropout,\n",
    "                  print_every = 25,\n",
    "                  stack_num = num_stack,\n",
    "                  subsampler = False, \n",
    "                  lr_decay=True, \n",
    "                  verbose = True,\n",
    "                  cross_valid = False,\n",
    "                  bidirection = True,\n",
    "                  if_save = False)\n",
    "acc_last_model= test(test_dataset2, model_C4GRU)"
   ]
  },
  {
   "cell_type": "code",
   "execution_count": 7,
   "metadata": {},
   "outputs": [
    {
     "name": "stdout",
     "output_type": "stream",
     "text": [
      "Cross validation is not implemented\n",
      "===============FOLD 0===============\n",
      "Model Initialized\n",
      "Loss afer 25 epoch: 1.182, with the average accuracy 45.245\n",
      "The validation accuracy at epoch 25 is: 30.47\n",
      "Loss afer 50 epoch: 1.186, with the average accuracy 47.363\n",
      "The validation accuracy at epoch 50 is: 29.69\n",
      "Loss afer 75 epoch: 1.177, with the average accuracy 45.289\n",
      "The validation accuracy at epoch 75 is: 28.91\n",
      "All 5 Folds Completed\n",
      "Fold 0: 28.680424009050643 %\n",
      "Average is:  28.680424009050643 %\n",
      "Saving training results...\n",
      "The test accuracy is: 30.02 %\n"
     ]
    }
   ],
   "source": [
    "num_epoch = 80\n",
    "dropout = 0.5\n",
    "cross_valid = False\n",
    "num_stack = 4\n",
    "model_C4LSTM = train(x_shape2, \n",
    "                  train_dataset2, \n",
    "                  'C4LSTM', \n",
    "                  criterion, \n",
    "                  k_folds = k_folds,\n",
    "                  num_epochs = num_epoch, \n",
    "                  dropout = dropout,\n",
    "                  print_every = 25,\n",
    "                  stack_num = num_stack,\n",
    "                  subsampler = False, \n",
    "                  lr_decay=True, \n",
    "                  verbose = True,\n",
    "                  cross_valid = False,\n",
    "                  bidirection = True,\n",
    "                  if_save = False)\n",
    "acc_last_model= test(test_dataset2, model_C4LSTM)"
   ]
  },
  {
   "cell_type": "code",
   "execution_count": 14,
   "metadata": {},
   "outputs": [
    {
     "name": "stdout",
     "output_type": "stream",
     "text": [
      "Cross validation is not implemented\n",
      "===============FOLD 0===============\n",
      "Model Initialized\n",
      "All 5 Folds Completed\n",
      "Fold 0: 52.43572834559849 %\n",
      "Average is:  52.43572834559849 %\n",
      "Saving training results...\n",
      "The test accuracy is: 57.34 %\n"
     ]
    }
   ],
   "source": [
    "num_epoch = 10\n",
    "dropout = 0.5\n",
    "cross_valid = False\n",
    "saving_file = False\n",
    "model_LSTM = train(x_shape2, \n",
    "                  train_dataset2, \n",
    "                  'LSTM', \n",
    "                  criterion, \n",
    "                  k_folds = k_folds,\n",
    "                  num_epochs = num_epoch,\n",
    "                  stack_num = 4,\n",
    "                  dropout = dropout,\n",
    "                  print_every = 25,\n",
    "                  subsampler = False, \n",
    "                  lr_decay=True, \n",
    "                  verbose = True,\n",
    "                  cross_valid = False,\n",
    "                  bidirection = True,\n",
    "                  if_save = False)\n",
    "acc_last_model= test(test_dataset2, model_LSTM)"
   ]
  },
  {
   "cell_type": "code",
   "execution_count": 15,
   "metadata": {},
   "outputs": [
    {
     "name": "stdout",
     "output_type": "stream",
     "text": [
      "Cross validation is not implemented\n",
      "===============FOLD 0===============\n",
      "Model Initialized\n",
      "All 5 Folds Completed\n",
      "Fold 0: 58.09315490722656 %\n",
      "Average is:  58.09315490722656 %\n",
      "Saving training results...\n",
      "The test accuracy is: 56.66 %\n"
     ]
    }
   ],
   "source": [
    "num_epoch = 10\n",
    "dropout = 0.5\n",
    "cross_valid = False\n",
    "saving_file = False\n",
    "model_GRU = train(x_shape2, \n",
    "                  train_dataset2, \n",
    "                  'GRU', \n",
    "                  criterion, \n",
    "                  k_folds = k_folds,\n",
    "                  num_epochs = num_epoch,\n",
    "                  stack_num = 4,\n",
    "                  dropout = dropout,\n",
    "                  print_every = 25,\n",
    "                  subsampler = False, \n",
    "                  lr_decay=True, \n",
    "                  verbose = True,\n",
    "                  cross_valid = False,\n",
    "                  bidirection = True,\n",
    "                  if_save = False)\n",
    "acc_last_model= test(test_dataset2, model_GRU)"
   ]
  },
  {
   "cell_type": "code",
   "execution_count": null,
   "metadata": {},
   "outputs": [],
   "source": []
  }
 ],
 "metadata": {
  "kernelspec": {
   "display_name": "Python 3",
   "language": "python",
   "name": "python3"
  },
  "language_info": {
   "codemirror_mode": {
    "name": "ipython",
    "version": 3
   },
   "file_extension": ".py",
   "mimetype": "text/x-python",
   "name": "python",
   "nbconvert_exporter": "python",
   "pygments_lexer": "ipython3",
   "version": "3.8.5"
  }
 },
 "nbformat": 4,
 "nbformat_minor": 4
}
