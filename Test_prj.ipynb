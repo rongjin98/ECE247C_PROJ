{
 "cells": [
  {
   "cell_type": "code",
   "execution_count": 2,
   "metadata": {},
   "outputs": [],
   "source": [
    "## Import package and functions\n",
    "import torch\n",
    "import numpy as np\n",
    "import matplotlib.pyplot as plt\n",
    "import torch.nn as nn\n",
    "from torch.utils.data import DataLoader\n",
    "from CNN import *\n",
    "from data_loader import *\n",
    "from CRNN import *\n",
    "from train_test import *\n",
    "import time\n",
    "\n",
    "%load_ext autoreload\n",
    "%autoreload 2"
   ]
  },
  {
   "cell_type": "code",
   "execution_count": 3,
   "metadata": {},
   "outputs": [],
   "source": [
    "path = \"project_data/\"\n",
    "device = \"cuda\" if torch.cuda.is_available() else \"cpu\"\n",
    "num_epoch = 50\n",
    "lr = 3e-4\n",
    "dropout = 0.5\n",
    "k_folds = 5\n",
    "bidirectional = False\n",
    "lr_decay = True\n",
    "verbose = True\n",
    "subsampler = True\n",
    "if_save = False\n",
    "print_every = 25\n",
    "criterion = nn.CrossEntropyLoss()\n",
    "data_crop_fct = 0.5\n",
    "num_stack = 4"
   ]
  },
  {
   "cell_type": "code",
   "execution_count": 22,
   "metadata": {
    "scrolled": false
   },
   "outputs": [
    {
     "name": "stdout",
     "output_type": "stream",
     "text": [
      "The X train & valid data size is (236, 22, 1000)\n",
      "The X test data size is (50, 22, 1000)\n",
      "Shape of x set after adding width info: (944, 22, 250, 1)\n",
      "Shape of x set after adding width info: (200, 22, 250, 1)\n"
     ]
    }
   ],
   "source": [
    "#Preprocessed\n",
    "X_train_valid2, y_train_valid2, X_test2, y_test2 = data_loader(path,True,subjects=[1])\n",
    "X_train_valid2, y_train_valid2, X_test2, y_test2 = data_process(X_train_valid2, \n",
    "        X_test2, y_train_valid2, y_test2, data_crop = data_crop_fct, verbose = False)\n",
    "x_shape2,train_dataset2 = Dataset_torch(X_train_valid2,y_train_valid2,verbose=True)\n",
    "x_test_shape2,test_dataset2 = Dataset_torch(X_test2,y_test2,verbose=True)"
   ]
  },
  {
   "cell_type": "code",
   "execution_count": 28,
   "metadata": {
    "scrolled": true
   },
   "outputs": [
    {
     "name": "stdout",
     "output_type": "stream",
     "text": [
      "The X train & valid data size is (236, 22, 1000)\n",
      "The X test data size is (50, 22, 1000)\n",
      "Shape of x set after adding width info: (236, 22, 500, 1)\n",
      "Shape of x set after adding width info: (50, 22, 500, 1)\n"
     ]
    }
   ],
   "source": [
    "#Crop Only\n",
    "X_train_valid, y_train_valid, X_test, y_test = data_loader(path,True,subjects=[1])\n",
    "X_train_valid, y_train_valid, X_test, y_test = crop_data(X_train_valid, \n",
    "        X_test, y_train_valid, y_test, data_crop = data_crop_fct, verbose = False)\n",
    "x_shape,train_dataset = Dataset_torch(X_train_valid,y_train_valid,verbose=True)\n",
    "x_test_shape,test_dataset = Dataset_torch(X_test,y_test,verbose=True)"
   ]
  },
  {
   "cell_type": "markdown",
   "metadata": {},
   "source": [
    "# Preprocess"
   ]
  },
  {
   "cell_type": "code",
   "execution_count": 8,
   "metadata": {},
   "outputs": [
    {
     "name": "stderr",
     "output_type": "stream",
     "text": [
      "C:\\Users\\Rong\\anaconda3\\lib\\site-packages\\torch\\nn\\modules\\conv.py:442: UserWarning: Using padding='same' with even kernel lengths and odd dilation may require a zero-padded copy of the input be created (Triggered internally at  ..\\aten\\src\\ATen\\native\\Convolution.cpp:647.)\n",
      "  return F.conv2d(input, weight, bias, self.stride,\n"
     ]
    },
    {
     "name": "stdout",
     "output_type": "stream",
     "text": [
      "Fold 0: 83.15007781982422 %\n",
      "The test accuracy is: 47.50 %\n"
     ]
    }
   ],
   "source": [
    "model_CNN = train(x_shape2, \n",
    "                  train_dataset2, \n",
    "                  'CNN', \n",
    "                  criterion, \n",
    "                  k_folds = k_folds,\n",
    "                  num_epochs = num_epoch, \n",
    "                  dropout = dropout,\n",
    "                  print_every = 25,\n",
    "                  stack_num = num_stack,\n",
    "                  subsampler = True, \n",
    "                  lr_decay=True, \n",
    "                  verbose = False,\n",
    "                  cross_valid = False,\n",
    "                  bidirection = True,\n",
    "                  if_save = False)\n",
    "acc_last_model= test(test_dataset2, model_CNN)"
   ]
  },
  {
   "cell_type": "code",
   "execution_count": 9,
   "metadata": {
    "scrolled": true
   },
   "outputs": [
    {
     "name": "stdout",
     "output_type": "stream",
     "text": [
      "Cross validation is not implemented\n",
      "===============FOLD 0===============\n",
      "Model Initialized\n",
      "Loss afer 25 epoch: 0.027, with the average accuracy 100.000\n",
      "The validation accuracy at epoch 25 is: 100.00\n",
      "Loss afer 50 epoch: 0.009, with the average accuracy 100.000\n",
      "The validation accuracy at epoch 50 is: 100.00\n",
      "All 5 Folds Completed\n",
      "Fold 0: 99.99999745686848 %\n",
      "Average is:  99.99999745686848 %\n",
      "Saving training results...\n",
      "The test accuracy is: 57.50 %\n"
     ]
    }
   ],
   "source": [
    "model_LSTM = train(x_shape2, \n",
    "                  train_dataset2, \n",
    "                  'LSTM', \n",
    "                  criterion, \n",
    "                  k_folds = k_folds,\n",
    "                  num_epochs = num_epoch,\n",
    "                  stack_num = 4,\n",
    "                  dropout = dropout,\n",
    "                  print_every = 25,\n",
    "                  subsampler = False, \n",
    "                  lr_decay=True, \n",
    "                  verbose = True,\n",
    "                  cross_valid = False,\n",
    "                  bidirection = True,\n",
    "                  if_save = False)\n",
    "acc_last_model= test(test_dataset2, model_LSTM)"
   ]
  },
  {
   "cell_type": "code",
   "execution_count": 10,
   "metadata": {},
   "outputs": [
    {
     "name": "stdout",
     "output_type": "stream",
     "text": [
      "Cross validation is not implemented\n",
      "===============FOLD 0===============\n",
      "Model Initialized\n",
      "Loss afer 25 epoch: 0.026, with the average accuracy 100.000\n",
      "The validation accuracy at epoch 25 is: 100.00\n",
      "Loss afer 50 epoch: 0.009, with the average accuracy 100.000\n",
      "The validation accuracy at epoch 50 is: 100.00\n",
      "All 5 Folds Completed\n",
      "Fold 0: 99.99999745686848 %\n",
      "Average is:  99.99999745686848 %\n",
      "Saving training results...\n",
      "The test accuracy is: 61.00 %\n"
     ]
    }
   ],
   "source": [
    "model_GRU = train(x_shape2, \n",
    "                  train_dataset2, \n",
    "                  'GRU', \n",
    "                  criterion, \n",
    "                  k_folds = k_folds,\n",
    "                  num_epochs = num_epoch,\n",
    "                  stack_num = 4,\n",
    "                  dropout = dropout,\n",
    "                  print_every = 25,\n",
    "                  subsampler = False, \n",
    "                  lr_decay=True, \n",
    "                  verbose = True,\n",
    "                  cross_valid = False,\n",
    "                  bidirection = True,\n",
    "                  if_save = False)\n",
    "acc_last_model= test(test_dataset2, model_GRU)"
   ]
  },
  {
   "cell_type": "markdown",
   "metadata": {},
   "source": [
    "# Crop Only"
   ]
  },
  {
   "cell_type": "code",
   "execution_count": 30,
   "metadata": {},
   "outputs": [
    {
     "name": "stdout",
     "output_type": "stream",
     "text": [
      "Cross validation is not implemented\n",
      "===============FOLD 0===============\n",
      "Model Initialized\n",
      "Loss afer 25 epoch: 0.092, with the average accuracy 100.000\n",
      "Loss afer 50 epoch: 0.070, with the average accuracy 100.000\n",
      "All 5 Folds Completed\n",
      "Fold 0: 56.25 %\n",
      "Average is:  56.25 %\n",
      "Saving training results...\n",
      "The test accuracy is: 60.00 %\n"
     ]
    }
   ],
   "source": [
    "model_LSTM2 = train(x_shape, \n",
    "                  train_dataset, \n",
    "                  'LSTM', \n",
    "                  criterion, \n",
    "                  k_folds = k_folds,\n",
    "                  num_epochs = num_epoch,\n",
    "                  stack_num = 4,\n",
    "                  dropout = dropout,\n",
    "                  print_every = 25,\n",
    "                  subsampler = False, \n",
    "                  lr_decay=True, \n",
    "                  verbose = True,\n",
    "                  cross_valid = False,\n",
    "                  bidirection = True,\n",
    "                  if_save = False)\n",
    "acc_last_model= test(test_dataset, model_LSTM2)"
   ]
  },
  {
   "cell_type": "code",
   "execution_count": 31,
   "metadata": {},
   "outputs": [
    {
     "name": "stdout",
     "output_type": "stream",
     "text": [
      "Cross validation is not implemented\n",
      "===============FOLD 0===============\n",
      "Model Initialized\n",
      "Loss afer 25 epoch: 0.156, with the average accuracy 100.000\n",
      "Loss afer 50 epoch: 0.145, with the average accuracy 100.000\n",
      "All 5 Folds Completed\n",
      "Fold 0: 50.0 %\n",
      "Average is:  50.0 %\n",
      "Saving training results...\n",
      "The test accuracy is: 62.00 %\n"
     ]
    }
   ],
   "source": [
    "model_GRU2 = train(x_shape, \n",
    "                  train_dataset, \n",
    "                  'GRU', \n",
    "                  criterion, \n",
    "                  k_folds = k_folds,\n",
    "                  num_epochs = num_epoch,\n",
    "                  stack_num = 4,\n",
    "                  dropout = dropout,\n",
    "                  print_every = 25,\n",
    "                  subsampler = False, \n",
    "                  lr_decay=True, \n",
    "                  verbose = True,\n",
    "                  cross_valid = False,\n",
    "                  bidirection = True,\n",
    "                  if_save = False)\n",
    "acc_last_model= test(test_dataset, model_GRU2)"
   ]
  },
  {
   "cell_type": "markdown",
   "metadata": {},
   "source": [
    "# Subjects Study"
   ]
  },
  {
   "cell_type": "code",
   "execution_count": 5,
   "metadata": {},
   "outputs": [
    {
     "name": "stdout",
     "output_type": "stream",
     "text": [
      "[0.1 0.2 0.3 0.4 0.5 0.6 0.7 0.8 0.9 1. ]\n"
     ]
    }
   ],
   "source": [
    "subjects = np.linspace(0,8,9,dtype=int)\n",
    "crop_list = np.linspace(0.1,1,10)\n",
    "print(crop_list)"
   ]
  },
  {
   "cell_type": "markdown",
   "metadata": {},
   "source": [
    "## Crop Only"
   ]
  },
  {
   "cell_type": "code",
   "execution_count": null,
   "metadata": {},
   "outputs": [],
   "source": [
    "subjects_acc = []\n",
    "for subject in subjects:\n",
    "    X_train_valid, y_train_valid, X_test, y_test = data_loader(path,False,subjects=[subject])\n",
    "    X_train_valid, y_train_valid, X_test, y_test = crop_data(X_train_valid, \n",
    "        X_test, y_train_valid, y_test, data_crop = data_crop_fct)\n",
    "    x_shape,train_dataset = Dataset_torch(X_train_valid,y_train_valid)\n",
    "    x_test_shape,test_dataset = Dataset_torch(X_test,y_test)\n",
    "    \n",
    "    model_LSTM2 = train(x_shape, \n",
    "                  train_dataset, \n",
    "                  'LSTM', \n",
    "                  criterion, \n",
    "                  k_folds = k_folds,\n",
    "                  num_epochs = num_epoch,\n",
    "                  stack_num = 4,\n",
    "                  dropout = dropout,\n",
    "                  print_every = 25,\n",
    "                  subsampler = False, \n",
    "                  lr_decay=True, \n",
    "                  verbose = False,\n",
    "                  cross_valid = False,\n",
    "                  bidirection = True,\n",
    "                  if_save = False)\n",
    "    \n",
    "    model_GRU2 = train(x_shape, \n",
    "                  train_dataset, \n",
    "                  'GRU', \n",
    "                  criterion, \n",
    "                  k_folds = k_folds,\n",
    "                  num_epochs = num_epoch,\n",
    "                  stack_num = 4,\n",
    "                  dropout = dropout,\n",
    "                  print_every = 25,\n",
    "                  subsampler = False, \n",
    "                  lr_decay=True, \n",
    "                  verbose = False,\n",
    "                  cross_valid = False,\n",
    "                  bidirection = True,\n",
    "                  if_save = False)\n",
    "    \n",
    "    acc_lstm = test(test_dataset, model_LSTM2)\n",
    "    acc_gru = test(test_dataset, model_GRU2)\n",
    "    subjects_acc.append([acc_lstm.item(), acc_gru.item()])\n",
    "    print(f'Subject: {subject} done')"
   ]
  },
  {
   "cell_type": "markdown",
   "metadata": {},
   "source": [
    "## Data Processing"
   ]
  },
  {
   "cell_type": "code",
   "execution_count": null,
   "metadata": {},
   "outputs": [],
   "source": [
    "subjects_acc_dp = []\n",
    "for subject in subjects:\n",
    "    X_train_valid, y_train_valid, X_test, y_test = data_loader(path,False,subjects=[subject])\n",
    "    X_train_valid, y_train_valid, X_test, y_test = data_process(X_train_valid, \n",
    "        X_test, y_train_valid, y_test, data_crop = data_crop_fct)\n",
    "    x_shape,train_dataset = Dataset_torch(X_train_valid,y_train_valid)\n",
    "    x_test_shape,test_dataset = Dataset_torch(X_test,y_test)\n",
    "    \n",
    "    model_LSTM = train(x_shape, \n",
    "                  train_dataset, \n",
    "                  'LSTM', \n",
    "                  criterion, \n",
    "                  k_folds = k_folds,\n",
    "                  num_epochs = num_epoch,\n",
    "                  stack_num = 4,\n",
    "                  dropout = dropout,\n",
    "                  print_every = 25,\n",
    "                  subsampler = False, \n",
    "                  lr_decay=True, \n",
    "                  verbose = False,\n",
    "                  cross_valid = False,\n",
    "                  bidirection = True,\n",
    "                  if_save = False)\n",
    "    \n",
    "    model_GRU = train(x_shape, \n",
    "                  train_dataset, \n",
    "                  'GRU', \n",
    "                  criterion, \n",
    "                  k_folds = k_folds,\n",
    "                  num_epochs = num_epoch,\n",
    "                  stack_num = 4,\n",
    "                  dropout = dropout,\n",
    "                  print_every = 25,\n",
    "                  subsampler = False, \n",
    "                  lr_decay=True, \n",
    "                  verbose = False,\n",
    "                  cross_valid = False,\n",
    "                  bidirection = True,\n",
    "                  if_save = False)\n",
    "    \n",
    "    acc_lstm = test(test_dataset, model_LSTM)\n",
    "    acc_gru = test(test_dataset, model_GRU)\n",
    "    subjects_acc_dp.append([acc_lstm.item(), acc_gru.item()])\n",
    "    print(f'Subject: {subject} done')"
   ]
  },
  {
   "cell_type": "code",
   "execution_count": 46,
   "metadata": {},
   "outputs": [
    {
     "name": "stdout",
     "output_type": "stream",
     "text": [
      "[[62.0, 76.0], [64.0, 59.999996185302734], [68.0, 53.999996185302734], [76.0, 66.0], [74.46807861328125, 70.21276092529297], [46.93877410888672, 65.30612182617188], [62.0, 62.0], [50.0, 45.999996185302734], [76.59574127197266, 72.34042358398438]]\n",
      "[[63.0, 65.0], [63.0, 62.0], [66.5, 64.5], [78.0, 62.5], [73.93617248535156, 77.6595687866211], [54.591835021972656, 60.20408248901367], [63.5, 63.0], [66.99999237060547, 65.5], [78.72340393066406, 85.10637664794922]]\n"
     ]
    }
   ],
   "source": [
    "print(subjects_acc)\n",
    "\n",
    "print(subjects_acc_dp)"
   ]
  },
  {
   "cell_type": "code",
   "execution_count": 47,
   "metadata": {},
   "outputs": [
    {
     "name": "stdout",
     "output_type": "stream",
     "text": [
      "Subject train len is: \n",
      " [237, 236, 236, 234, 235, 236, 238, 232, 231]\n",
      "Subject test len is: \n",
      " [50, 50, 50, 50, 47, 49, 50, 50, 47]\n"
     ]
    }
   ],
   "source": [
    "sub_len_train = []\n",
    "sub_len_test = []\n",
    "for subject in subjects:\n",
    "    X_train_valid, y_train_valid, X_test, y_test = data_loader(path,False,subjects=[subject])\n",
    "    N1 = X_train_valid.shape[0]\n",
    "    N2 = X_test.shape[0]\n",
    "    sub_len_train.append(N1)\n",
    "    sub_len_test.append(N2)\n",
    "\n",
    "\n",
    "print('Subject train len is: \\n', sub_len_train)\n",
    "print('Subject test len is: \\n', sub_len_test)"
   ]
  },
  {
   "cell_type": "code",
   "execution_count": 49,
   "metadata": {},
   "outputs": [
    {
     "name": "stdout",
     "output_type": "stream",
     "text": [
      "Lstm Acc with Crop is: \n",
      " [62.0, 64.0, 68.0, 76.0, 74.46807861328125, 46.93877410888672, 62.0, 50.0, 76.59574127197266]\n",
      "Lstm Acc with Dp is: \n",
      " [63.0, 63.0, 66.5, 78.0, 73.93617248535156, 54.591835021972656, 63.5, 66.99999237060547, 78.72340393066406]\n",
      "Gru Acc with Crop is: \n",
      " [76.0, 59.999996185302734, 53.999996185302734, 66.0, 70.21276092529297, 65.30612182617188, 62.0, 45.999996185302734, 72.34042358398438]\n",
      "Gru Acc with Dp is: \n",
      " [65.0, 62.0, 64.5, 62.5, 77.6595687866211, 60.20408248901367, 63.0, 65.5, 85.10637664794922]\n"
     ]
    }
   ],
   "source": [
    "lstm_acc_crop = []\n",
    "gru_acc_crop = []\n",
    "for key in subjects_acc:\n",
    "    lstm_acc_crop.append(key[0])\n",
    "    gru_acc_crop.append(key[1])\n",
    "\n",
    "lstm_acc_dp = []\n",
    "gru_acc_dp = []\n",
    "for key in subjects_acc_dp:\n",
    "    lstm_acc_dp.append(key[0])\n",
    "    gru_acc_dp.append(key[1])\n",
    "print('Lstm Acc with Crop is: \\n', lstm_acc_crop)\n",
    "print('Lstm Acc with Dp is: \\n', lstm_acc_dp)\n",
    "print('Gru Acc with Crop is: \\n', gru_acc_crop)\n",
    "print('Gru Acc with Dp is: \\n', gru_acc_dp)"
   ]
  },
  {
   "cell_type": "markdown",
   "metadata": {},
   "source": [
    "# Time Crop Study"
   ]
  },
  {
   "cell_type": "code",
   "execution_count": 7,
   "metadata": {},
   "outputs": [
    {
     "name": "stdout",
     "output_type": "stream",
     "text": [
      "The test accuracy is: 44.68 %\n",
      "The test accuracy is: 38.30 %\n",
      "Subject: 0.1 done\n",
      "The test accuracy is: 57.45 %\n",
      "The test accuracy is: 68.09 %\n",
      "Subject: 0.2 done\n",
      "The test accuracy is: 63.83 %\n",
      "The test accuracy is: 68.09 %\n",
      "Subject: 0.30000000000000004 done\n",
      "The test accuracy is: 70.21 %\n",
      "The test accuracy is: 76.60 %\n",
      "Subject: 0.4 done\n",
      "The test accuracy is: 72.34 %\n",
      "The test accuracy is: 72.34 %\n",
      "Subject: 0.5 done\n",
      "The test accuracy is: 70.21 %\n",
      "The test accuracy is: 68.09 %\n",
      "Subject: 0.6 done\n",
      "The test accuracy is: 68.09 %\n",
      "The test accuracy is: 61.70 %\n",
      "Subject: 0.7000000000000001 done\n",
      "The test accuracy is: 65.96 %\n",
      "The test accuracy is: 65.96 %\n",
      "Subject: 0.8 done\n",
      "The test accuracy is: 57.45 %\n",
      "The test accuracy is: 59.57 %\n",
      "Subject: 0.9 done\n",
      "The test accuracy is: 70.21 %\n",
      "The test accuracy is: 65.96 %\n",
      "Subject: 1.0 done\n"
     ]
    }
   ],
   "source": [
    "# Use LSTM & GRU with Data Crop Only on Subject 8 \n",
    "crop_acc = []\n",
    "for data_crop_fct in crop_list:\n",
    "    X_train_valid, y_train_valid, X_test, y_test = data_loader(path,False,subjects=[8])\n",
    "    X_train_valid, y_train_valid, X_test, y_test = crop_data(X_train_valid, \n",
    "        X_test, y_train_valid, y_test, data_crop = data_crop_fct)\n",
    "    x_shape,train_dataset = Dataset_torch(X_train_valid,y_train_valid)\n",
    "    x_test_shape,test_dataset = Dataset_torch(X_test,y_test)\n",
    "    \n",
    "    model_LSTM2 = train(x_shape, \n",
    "                  train_dataset, \n",
    "                  'LSTM', \n",
    "                  criterion, \n",
    "                  k_folds = k_folds,\n",
    "                  num_epochs = num_epoch,\n",
    "                  stack_num = 4,\n",
    "                  dropout = dropout,\n",
    "                  print_every = 25,\n",
    "                  subsampler = False, \n",
    "                  lr_decay=True, \n",
    "                  verbose = False,\n",
    "                  cross_valid = False,\n",
    "                  bidirection = True,\n",
    "                  if_save = False)\n",
    "    \n",
    "    model_GRU2 = train(x_shape, \n",
    "                  train_dataset, \n",
    "                  'GRU', \n",
    "                  criterion, \n",
    "                  k_folds = k_folds,\n",
    "                  num_epochs = num_epoch,\n",
    "                  stack_num = 4,\n",
    "                  dropout = dropout,\n",
    "                  print_every = 25,\n",
    "                  subsampler = False, \n",
    "                  lr_decay=True, \n",
    "                  verbose = False,\n",
    "                  cross_valid = False,\n",
    "                  bidirection = True,\n",
    "                  if_save = False)\n",
    "    \n",
    "    acc_lstm = test(test_dataset, model_LSTM2)\n",
    "    acc_gru = test(test_dataset, model_GRU2)\n",
    "    del(model_LSTM2,model_GRU2)\n",
    "    crop_acc.append([acc_lstm.item(), acc_gru.item()])\n",
    "    print(f'Subject: {data_crop_fct} done')"
   ]
  },
  {
   "cell_type": "code",
   "execution_count": 8,
   "metadata": {},
   "outputs": [
    {
     "name": "stdout",
     "output_type": "stream",
     "text": [
      "[[44.68084716796875, 38.29787063598633], [57.446807861328125, 68.0851058959961], [63.82978439331055, 68.0851058959961], [70.21276092529297, 76.59574127197266], [72.34042358398438, 72.34042358398438], [70.21276092529297, 68.0851058959961], [68.0851058959961, 61.702125549316406], [65.95744323730469, 65.95744323730469], [57.446807861328125, 59.574466705322266], [70.21276092529297, 65.95744323730469]]\n"
     ]
    }
   ],
   "source": [
    "print(crop_acc)"
   ]
  },
  {
   "cell_type": "code",
   "execution_count": 9,
   "metadata": {},
   "outputs": [
    {
     "name": "stdout",
     "output_type": "stream",
     "text": [
      "Lstm Acc with Time Crop is: \n",
      " [44.68084716796875, 57.446807861328125, 63.82978439331055, 70.21276092529297, 72.34042358398438, 70.21276092529297, 68.0851058959961, 65.95744323730469, 57.446807861328125, 70.21276092529297]\n",
      "Gru Acc with Time Crop is: \n",
      " [38.29787063598633, 68.0851058959961, 68.0851058959961, 76.59574127197266, 72.34042358398438, 68.0851058959961, 61.702125549316406, 65.95744323730469, 59.574466705322266, 65.95744323730469]\n"
     ]
    }
   ],
   "source": [
    "lstm_acc_crp_t = []\n",
    "gru_acc_crp_t = []\n",
    "for key in crop_acc:\n",
    "    lstm_acc_crp_t.append(key[0])\n",
    "    gru_acc_crp_t.append(key[1])\n",
    "print('Lstm Acc with Time Crop is: \\n', lstm_acc_crp_t)\n",
    "print('Gru Acc with Time Crop is: \\n', gru_acc_crp_t)"
   ]
  },
  {
   "cell_type": "code",
   "execution_count": null,
   "metadata": {},
   "outputs": [],
   "source": []
  }
 ],
 "metadata": {
  "kernelspec": {
   "display_name": "Python 3",
   "language": "python",
   "name": "python3"
  },
  "language_info": {
   "codemirror_mode": {
    "name": "ipython",
    "version": 3
   },
   "file_extension": ".py",
   "mimetype": "text/x-python",
   "name": "python",
   "nbconvert_exporter": "python",
   "pygments_lexer": "ipython3",
   "version": "3.8.5"
  }
 },
 "nbformat": 4,
 "nbformat_minor": 4
}
